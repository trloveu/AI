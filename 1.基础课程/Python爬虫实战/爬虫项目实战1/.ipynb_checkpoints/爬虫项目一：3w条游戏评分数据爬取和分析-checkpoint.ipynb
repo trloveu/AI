{
 "cells": [
  {
   "attachments": {},
   "cell_type": "markdown",
   "metadata": {},
   "source": [
    "本文爬取了豆瓣游戏网站上所有可见的游戏评分数据进行分析，全文包括以下几个部分：\n",
    "\n",
    "\n",
    "1. 数据获取\n",
    "\n",
    "2. 数据总览\n",
    "\n",
    "3. 游戏类型分析\n",
    "\n",
    "4. 游戏平台分析\n",
    "\n",
    "5. 游戏名称分析\n",
    "\n",
    "6. 高分游戏汇总\n",
    "\n",
    "7. 代码汇总\n",
    "\n",
    "## 1. 数据获取\n",
    "\n",
    "数据来自豆瓣游戏，网址：\n",
    "\n",
    "https://www.douban.com/game/explore\n",
    "\n",
    "<img src=\"./fig1.png\">\n",
    "\n",
    "页面内一条游戏数据展示如下，显示出来的一条评论是游戏的点赞数最多的评论，我们分析需要的数据包括<b>游戏名称、游戏类型、游戏平台、游戏评分、游戏评价人数及最热评价</b>。\n",
    "\n",
    "\n",
    "浏览器中按F12打开开发者工具，选择NetWork-XHR，页面拉倒底部点显示更多，可以看到获取到的数据文件。\n",
    "<img src=\"./fig2.png\">\n",
    "\n",
    "\n",
    "右键打开后看到是游戏的信息，通过改变网址中more后面的数字，可以获取更多数据。但尝试之后发现，每次可以获取20条数据，more后面的数字最大可以设置为500，超过500后获取不到数据，也就是说最多能获取10000条数据，但底部total字段显示总的游戏数据有52049条。\n",
    "\n",
    "<img src=\"./fig3.png\">\n",
    "\n",
    "所以为了获取更多数据，我们分类型爬取数据，每次选中一个类型，重复上述过程，可以得到数据，观察后发现每个类型下的游戏数据都不超过10000条，这样每个类型的数据都能全部获取，最后把所有数据拼到一起即可。\n",
    "\n",
    "以动作类游戏为例，动作类游戏第二页数据对应的网址如下\n",
    "\n",
    "\n",
    "\n",
    "https://www.douban.com/j/ilmen/game/search?genres=1&platforms=&q=&sort=rating&more=2\n",
    "\n",
    "\n",
    "多尝试几次之后能看出规律：genres后面是游戏类型，动作类型对应的genres = 1，platforms后面是平台类型，q后面的是游戏名称关键字，sort后面是排序方式，默认是按评分排序，more后面是页码。\n",
    "\n",
    "\n",
    "所以我们需要知道每个游戏类型对应的数字，可以在开发者工具中选Element，用小箭头进行定位，快速获取所有游戏类型对应的数字：\n",
    "\n",
    "<img src=\"./fig4.png\">\n",
    "\n",
    "依次点开每个class，获取每个类型对应的数字，整理如下：\n",
    "\n",
    "\n",
    "```\n",
    "{1:\"动作\",5:\"角色扮演\",41:\"横版过关\",4:\"冒险\",48:\"射击\",32:\"第一人称射击\",2:\"策略\",18:\"益智\",7:\"模拟\",3:\"体育\",6:\"竞速\",9:\"格斗\",37:\"乱斗/清版\",12:\"即时战略\",19:\"音乐/旋律\"}\n",
    "```\n",
    "\n",
    "\n",
    "之后就可以用python中的request+json包循环获取数据了。\n",
    "\n",
    "需要的数据包括：\n",
    "\n",
    "\n",
    "\n",
    "- n_ratings：评分人数\n",
    "\n",
    "- platforms：平台\n",
    "\n",
    "- rating：评分\n",
    "\n",
    "- star：星级\n",
    "\n",
    "- title：游戏名称\n",
    "\n",
    "- content：最热评论\n",
    "\n",
    "\n",
    "游戏类型因为已经我们已经分类型爬取，所以每次爬完之后用代码加上对应的类型即可，但能看到一个游戏可能对应多种类型，或者在多个平台上同时发布，所以在后面的分析中需要处理，其他字段分析中用不到。\n",
    "\n",
    "## 2.爬取数据"
   ]
  },
  {
   "cell_type": "code",
   "execution_count": 1,
   "metadata": {},
   "outputs": [],
   "source": [
    "import urllib\n",
    "import requests\n",
    "from fake_useragent import UserAgent\n",
    "import json\n",
    "import pandas as pd\n",
    "import time\n",
    "import datetime\n",
    "import os\n",
    "from tqdm import tqdm"
   ]
  },
  {
   "cell_type": "code",
   "execution_count": 2,
   "metadata": {},
   "outputs": [],
   "source": [
    "# 定义发送get请求\n",
    "comment_api = 'https://www.douban.com/j/ilmen/game/search?genres={}&platforms=&q=&sort=rating&more={}'\n",
    "\n",
    "# https://www.douban.com/game/explore/?genres=&platforms=&q=&sort=rating\n",
    "# https://www.douban.com/j/ilmen/game/search?genres=&platforms=&q=&sort=rating&more=2\n",
    "# genres : 游戏类别\n",
    "# n_ratings: 评分人数\n",
    "# platforms: 平台\n",
    "# rating ： 评分\n",
    "# content : 最热评论\n",
    "# star : 星数\n",
    "# title : 游戏名称\n"
   ]
  },
  {
   "cell_type": "code",
   "execution_count": 3,
   "metadata": {},
   "outputs": [],
   "source": [
    "# 定义游戏的分类字典\n",
    "def getDoubanGame(genres):\n",
    "    # genres 游戏题材 \n",
    "    # 分类（游戏题材）爬取各题材数据，最后整合分析\n",
    "    id_all1 = {1:\"动作\",5:\"角色扮演\",41:\"横版过关\",4:\"冒险\",48:\"射击\",32:\"第一人称射击\",2:\"策略\",18:\"益智\",7:\"模拟\",3:\"体育\",6:\"竞速\",9:\"格斗\",37:\"乱斗/清版\",12:\"即时战略\",19:\"音乐/旋律\"}\n",
    "    headers = { \"User-Agent\": UserAgent(verify_ssl=False).random}\n",
    "    print(\"headers:\",headers) # 打印headers\n",
    "    \n",
    "    response_comment = requests.get(comment_api.format(genres,1),headers = headers)\n",
    "    print(\"comment_api.format(genres,1):\",comment_api.format(genres,1))   \n",
    "    \n",
    "    json_comment = response_comment.text\n",
    "    json_comment = json.loads(json_comment) # 转换数据为json类型 注意需要格式化后才能看清楚 http://www.bejson.com/\n",
    "    #print(\"json_comment:\",json_comment)       \n",
    "    \n",
    "    col = ['name','star','rating','platforms','n_ratings','genres','content']\n",
    "    \n",
    "    num = json_comment['total']\n",
    "    print('{}类别共{}个游戏,开始爬取：'.format(id_all1[genres],num))\n",
    "    \n",
    "    # 初始化\n",
    "    i = 0\n",
    "    dataall = pd.DataFrame()\n",
    "    \n",
    "    #while i < num:\n",
    "    for i in tqdm(range(10)):      # num ,节约时间爬取10个\n",
    "        if i == 0:\n",
    "            s = 1  # 爬取第几个页面 初始页面为1，如果i==0，则说明开始了一次新类别的爬取，每个类别的游戏都从第1个页面开始爬\n",
    "        else:\n",
    "            s = json_comment['more'] # 否则说明还是某个类别的爬取，没有结束，需要解析json_comment，爬取下一个页面\n",
    "    \n",
    "        response_comment = requests.get(comment_api.format(genres,s),headers = headers) # 更改 get URL ，更改随机headers ，重新爬取网页数据\n",
    "        json_comment = response_comment.text\n",
    "        json_comment = json.loads(json_comment)  # 抓取了下一页的信息，并格式化\n",
    "        #print(\"json_comment:\",json_comment)       \n",
    "        \n",
    "        n = len(json_comment['games']) # 每次翻页都是增加20个游戏\n",
    "        \n",
    "        datas = pd.DataFrame(index = range(n),columns = col)\n",
    "        \n",
    "        for j in range(n): \n",
    "            # 将20个新增游戏的内容分类放入 datas\n",
    "            datas.loc[j,'name'] = json_comment['games'][j]['title']\n",
    "            datas.loc[j,'star'] = json_comment['games'][j]['star']\n",
    "            datas.loc[j,'rating'] = json_comment['games'][j]['rating']\n",
    "            datas.loc[j,'platforms'] = json_comment['games'][j]['platforms']\n",
    "            datas.loc[j,'n_ratings'] = json_comment['games'][j]['n_ratings']\n",
    "            datas.loc[j,'genres'] = json_comment['games'][j]['genres']\n",
    "            datas.loc[j,'content'] = json_comment['games'][j]['review']['content']\n",
    "                \n",
    "        i += 1        \n",
    "    \n",
    "        dataall = pd.concat([dataall,datas],axis = 0)\n",
    "        #print('已完成 {}% !'.format(round(i/num*100,2)))\n",
    "               \n",
    "        time.sleep(0.5) #0.5秒后下一页\n",
    "    dataall = dataall.reset_index(drop = True) # reset_index可以还原索引，重新变为默认的整型索引\n",
    "    dataall['type'] = id_all1[genres]\n",
    "    return dataall\n"
   ]
  },
  {
   "cell_type": "code",
   "execution_count": 4,
   "metadata": {
    "scrolled": false
   },
   "outputs": [
    {
     "name": "stdout",
     "output_type": "stream",
     "text": [
      "headers: {'User-Agent': 'Mozilla/5.0 (Windows NT 6.1) AppleWebKit/537.36 (KHTML, like Gecko) Chrome/27.0.1453.93 Safari/537.36'}\n",
      "comment_api.format(genres,1): https://www.douban.com/j/ilmen/game/search?genres=1&platforms=&q=&sort=rating&more=1\n",
      "动作类别共5853个游戏,开始爬取：\n"
     ]
    },
    {
     "name": "stderr",
     "output_type": "stream",
     "text": [
      "100%|██████████████████████████████████████████████████████████████████████████████████| 50/50 [00:46<00:00,  1.08it/s]\n"
     ]
    },
    {
     "name": "stdout",
     "output_type": "stream",
     "text": [
      "headers: {'User-Agent': 'Mozilla/5.0 (Windows NT 5.1) AppleWebKit/537.36 (KHTML, like Gecko) Chrome/36.0.1985.67 Safari/537.36'}\n",
      "comment_api.format(genres,1): https://www.douban.com/j/ilmen/game/search?genres=5&platforms=&q=&sort=rating&more=1\n",
      "角色扮演类别共4985个游戏,开始爬取：\n"
     ]
    },
    {
     "name": "stderr",
     "output_type": "stream",
     "text": [
      "100%|██████████████████████████████████████████████████████████████████████████████████| 50/50 [00:54<00:00,  1.15s/it]\n"
     ]
    },
    {
     "name": "stdout",
     "output_type": "stream",
     "text": [
      "headers: {'User-Agent': 'Mozilla/5.0 (X11; OpenBSD i386) AppleWebKit/537.36 (KHTML, like Gecko) Chrome/36.0.1985.125 Safari/537.36'}\n",
      "comment_api.format(genres,1): https://www.douban.com/j/ilmen/game/search?genres=41&platforms=&q=&sort=rating&more=1\n",
      "横版过关类别共1289个游戏,开始爬取：\n"
     ]
    },
    {
     "name": "stderr",
     "output_type": "stream",
     "text": [
      "100%|██████████████████████████████████████████████████████████████████████████████████| 50/50 [00:51<00:00,  1.02s/it]\n"
     ]
    },
    {
     "name": "stdout",
     "output_type": "stream",
     "text": [
      "headers: {'User-Agent': 'Mozilla/5.0 (Windows NT 6.2) AppleWebKit/537.36 (KHTML, like Gecko) Chrome/28.0.1467.0 Safari/537.36'}\n",
      "comment_api.format(genres,1): https://www.douban.com/j/ilmen/game/search?genres=4&platforms=&q=&sort=rating&more=1\n",
      "冒险类别共5117个游戏,开始爬取：\n"
     ]
    },
    {
     "name": "stderr",
     "output_type": "stream",
     "text": [
      "100%|██████████████████████████████████████████████████████████████████████████████████| 50/50 [00:53<00:00,  1.10s/it]\n"
     ]
    },
    {
     "name": "stdout",
     "output_type": "stream",
     "text": [
      "headers: {'User-Agent': 'Mozilla/5.0 (X11; OpenBSD i386) AppleWebKit/537.36 (KHTML, like Gecko) Chrome/36.0.1985.125 Safari/537.36'}\n",
      "comment_api.format(genres,1): https://www.douban.com/j/ilmen/game/search?genres=48&platforms=&q=&sort=rating&more=1\n",
      "射击类别共82个游戏,开始爬取：\n"
     ]
    },
    {
     "name": "stderr",
     "output_type": "stream",
     "text": [
      "100%|██████████████████████████████████████████████████████████████████████████████████| 50/50 [00:36<00:00,  1.41it/s]\n"
     ]
    },
    {
     "name": "stdout",
     "output_type": "stream",
     "text": [
      "headers: {'User-Agent': 'Mozilla/5.0 (Windows NT 6.1) AppleWebKit/537.36 (KHTML, like Gecko) Chrome/28.0.1468.0 Safari/537.36'}\n",
      "comment_api.format(genres,1): https://www.douban.com/j/ilmen/game/search?genres=32&platforms=&q=&sort=rating&more=1\n",
      "第一人称射击类别共706个游戏,开始爬取：\n"
     ]
    },
    {
     "name": "stderr",
     "output_type": "stream",
     "text": [
      "100%|██████████████████████████████████████████████████████████████████████████████████| 50/50 [00:53<00:00,  1.03s/it]\n"
     ]
    },
    {
     "name": "stdout",
     "output_type": "stream",
     "text": [
      "headers: {'User-Agent': 'Mozilla/5.0 (Windows NT 6.1; WOW64; rv:29.0) Gecko/20120101 Firefox/29.0'}\n",
      "comment_api.format(genres,1): https://www.douban.com/j/ilmen/game/search?genres=2&platforms=&q=&sort=rating&more=1\n",
      "策略类别共3274个游戏,开始爬取：\n"
     ]
    },
    {
     "name": "stderr",
     "output_type": "stream",
     "text": [
      "100%|██████████████████████████████████████████████████████████████████████████████████| 50/50 [01:01<00:00,  1.25s/it]\n"
     ]
    },
    {
     "name": "stdout",
     "output_type": "stream",
     "text": [
      "headers: {'User-Agent': 'Mozilla/5.0 (Windows NT 6.2; WOW64) AppleWebKit/537.14 (KHTML, like Gecko) Chrome/24.0.1292.0 Safari/537.14'}\n",
      "comment_api.format(genres,1): https://www.douban.com/j/ilmen/game/search?genres=18&platforms=&q=&sort=rating&more=1\n",
      "益智类别共3603个游戏,开始爬取：\n"
     ]
    },
    {
     "name": "stderr",
     "output_type": "stream",
     "text": [
      "100%|██████████████████████████████████████████████████████████████████████████████████| 50/50 [00:56<00:00,  1.23s/it]\n"
     ]
    },
    {
     "name": "stdout",
     "output_type": "stream",
     "text": [
      "headers: {'User-Agent': 'Mozilla/5.0 (Windows NT 5.1) AppleWebKit/537.36 (KHTML, like Gecko) Chrome/41.0.2224.3 Safari/537.36'}\n",
      "comment_api.format(genres,1): https://www.douban.com/j/ilmen/game/search?genres=7&platforms=&q=&sort=rating&more=1\n",
      "模拟类别共2913个游戏,开始爬取：\n"
     ]
    },
    {
     "name": "stderr",
     "output_type": "stream",
     "text": [
      "100%|██████████████████████████████████████████████████████████████████████████████████| 50/50 [00:54<00:00,  1.07s/it]\n"
     ]
    },
    {
     "name": "stdout",
     "output_type": "stream",
     "text": [
      "headers: {'User-Agent': 'Mozilla/5.0 (Windows NT 5.1) AppleWebKit/537.36 (KHTML, like Gecko) Chrome/35.0.2309.372 Safari/537.36'}\n",
      "comment_api.format(genres,1): https://www.douban.com/j/ilmen/game/search?genres=3&platforms=&q=&sort=rating&more=1\n",
      "体育类别共928个游戏,开始爬取：\n"
     ]
    },
    {
     "name": "stderr",
     "output_type": "stream",
     "text": [
      "100%|██████████████████████████████████████████████████████████████████████████████████| 50/50 [00:53<00:00,  1.09s/it]\n"
     ]
    },
    {
     "name": "stdout",
     "output_type": "stream",
     "text": [
      "headers: {'User-Agent': 'Mozilla/5.0 (Macintosh; Intel Mac OS X 10_10; rv:33.0) Gecko/20100101 Firefox/33.0'}\n",
      "comment_api.format(genres,1): https://www.douban.com/j/ilmen/game/search?genres=6&platforms=&q=&sort=rating&more=1\n",
      "竞速类别共741个游戏,开始爬取：\n"
     ]
    },
    {
     "name": "stderr",
     "output_type": "stream",
     "text": [
      "100%|██████████████████████████████████████████████████████████████████████████████████| 50/50 [00:47<00:00,  1.37it/s]\n"
     ]
    },
    {
     "name": "stdout",
     "output_type": "stream",
     "text": [
      "headers: {'User-Agent': 'Mozilla/5.0 (Windows NT 6.1; WOW64) AppleWebKit/537.36 (KHTML, like Gecko) Chrome/41.0.2227.0 Safari/537.36'}\n",
      "comment_api.format(genres,1): https://www.douban.com/j/ilmen/game/search?genres=9&platforms=&q=&sort=rating&more=1\n",
      "格斗类别共815个游戏,开始爬取：\n"
     ]
    },
    {
     "name": "stderr",
     "output_type": "stream",
     "text": [
      "100%|██████████████████████████████████████████████████████████████████████████████████| 50/50 [00:46<00:00,  1.37it/s]\n"
     ]
    },
    {
     "name": "stdout",
     "output_type": "stream",
     "text": [
      "headers: {'User-Agent': 'Mozilla/5.0 (Windows NT 6.1; rv:14.0) Gecko/20100101 Firefox/18.0.1'}\n",
      "comment_api.format(genres,1): https://www.douban.com/j/ilmen/game/search?genres=37&platforms=&q=&sort=rating&more=1\n",
      "乱斗/清版类别共318个游戏,开始爬取：\n"
     ]
    },
    {
     "name": "stderr",
     "output_type": "stream",
     "text": [
      "100%|██████████████████████████████████████████████████████████████████████████████████| 50/50 [00:39<00:00,  1.42it/s]\n"
     ]
    },
    {
     "name": "stdout",
     "output_type": "stream",
     "text": [
      "headers: {'User-Agent': 'Mozilla/5.0 (Windows NT 6.1; WOW64) AppleWebKit/537.17 (KHTML, like Gecko) Chrome/24.0.1312.60 Safari/537.17'}\n",
      "comment_api.format(genres,1): https://www.douban.com/j/ilmen/game/search?genres=12&platforms=&q=&sort=rating&more=1\n",
      "即时战略类别共608个游戏,开始爬取：\n"
     ]
    },
    {
     "name": "stderr",
     "output_type": "stream",
     "text": [
      "100%|██████████████████████████████████████████████████████████████████████████████████| 50/50 [00:44<00:00,  1.43it/s]\n"
     ]
    },
    {
     "name": "stdout",
     "output_type": "stream",
     "text": [
      "headers: {'User-Agent': 'Mozilla/5.0 (Windows; U; Windows NT 6.1; zh-HK) AppleWebKit/533.18.1 (KHTML, like Gecko) Version/5.0.2 Safari/533.18.5'}\n",
      "comment_api.format(genres,1): https://www.douban.com/j/ilmen/game/search?genres=19&platforms=&q=&sort=rating&more=1\n",
      "音乐/旋律类别共515个游戏,开始爬取：\n"
     ]
    },
    {
     "name": "stderr",
     "output_type": "stream",
     "text": [
      "100%|██████████████████████████████████████████████████████████████████████████████████| 50/50 [00:44<00:00,  1.43it/s]\n"
     ]
    }
   ],
   "source": [
    "id_all = {\"动作\":1,\"角色扮演\" :5,\"横版过关\" :41,\"冒险\" :4,\"射击\": 48,\"第一人称射击\":32,\"策略\":2,\"益智\":18,\"模拟\":7,\"体育\":3,\"竞速\":6,\"格斗\":9,\"乱斗/清版\":37,\"即时战略\":12,\"音乐/旋律\":19}\n",
    "\n",
    "id_all1 = {1:\"动作\",5:\"角色扮演\",41:\"横版过关\",4:\"冒险\",48:\"射击\",32:\"第一人称射击\",2:\"策略\",18:\"益智\",7:\"模拟\",3:\"体育\",6:\"竞速\",9:\"格斗\",37:\"乱斗/清版\",12:\"即时战略\",19:\"音乐/旋律\"}\n",
    "\n",
    "for i in list(id_all.values()):\n",
    "    dataall = getDoubanGame(i)\n",
    "    filename = '游戏类别_' + id_all1[i] +'.xlsx' # print(filename)\n",
    "    filename = filename.replace('/','')\n",
    "    dataall.re(filename)"
   ]
  },
  {
   "cell_type": "markdown",
   "metadata": {},
   "source": [
    "## 2. 数据总览"
   ]
  },
  {
   "cell_type": "markdown",
   "metadata": {},
   "source": [
    "genres是网站上给的类型，type是爬取过程中加上去的类型，后文的分析都用type。\n",
    "\n",
    "简单统计后发现，31574条数据中有17751条数据都是没有评分的，此外，由于一种游戏可能属于多个类别，所以一部分游戏是重复出现的，只有type不同。\n",
    "\n",
    "首先对数据整体做一个统计描述，对于没有评分的数据采用两种方法处理，视为评分为0和删除数据。"
   ]
  },
  {
   "cell_type": "code",
   "execution_count": 28,
   "metadata": {},
   "outputs": [
    {
     "name": "stdout",
     "output_type": "stream",
     "text": [
      "1000\n",
      "931\n"
     ]
    }
   ],
   "source": [
    "# 删除有缺失值的游戏\n",
    "data = pd.DataFrame(pd.read_excel(\"游戏类别_策略.xlsx\"))\n",
    "print(data.iloc[:,0].size) # 总行数\n",
    "data_ = data.dropna()\n",
    "print(data_.iloc[:,0].size) # 总行数"
   ]
  },
  {
   "cell_type": "code",
   "execution_count": 29,
   "metadata": {
    "scrolled": false
   },
   "outputs": [
    {
     "name": "stdout",
     "output_type": "stream",
     "text": [
      "原始数据 515\n"
     ]
    },
    {
     "data": {
      "image/png": "[encoded data removed]",
      "text/plain": [
       "<Figure size 540x540 with 12 Axes>"
      ]
     },
     "metadata": {
      "needs_background": "light"
     },
     "output_type": "display_data"
    },
    {
     "name": "stdout",
     "output_type": "stream",
     "text": [
      "评分非空数据 515\n"
     ]
    },
    {
     "data": {
      "image/png": "[encoded data removed]",
      "text/plain": [
       "<Figure size 540x540 with 12 Axes>"
      ]
     },
     "metadata": {
      "needs_background": "light"
     },
     "output_type": "display_data"
    }
   ],
   "source": [
    "dataall['n_platforms'] = dataall.platforms.apply(lambda x:len(str(x).split('/')))\n",
    "dataall['platform'] = dataall.platforms.apply(lambda x:str(x).split('/')[0].strip())\n",
    "\n",
    "import matplotlib.pyplot as plt\n",
    "import seaborn as sns\n",
    "\n",
    "sns.pairplot(dataall,diag_kind = 'kde') \n",
    "print(\"原始数据\",dataall.iloc[:,[2]].size)\n",
    "plt.show()\n",
    "\n",
    "data2 = dataall.dropna() # pandas使用NaN作为缺失数据的标记 通过dropna()滤除缺失数据：\n",
    "sns.pairplot(data2,diag_kind = 'kde') \n",
    "print(\"评分非空数据\",data2.iloc[:,[2]].size)\n",
    "plt.show()"
   ]
  },
  {
   "cell_type": "markdown",
   "metadata": {},
   "source": [
    "两幅图的5个变量（从左往右、从上至下）均为：星级、评分、评分人数、游戏名称长度、游戏发行平台数，加入游戏名称长度和发行平台数是想探究游戏名称的长度以及发行的平台数是否和游戏评分有一定的关系。\n",
    "\n",
    "从这两幅分布图能得到一些结论：\n",
    "\n",
    "星级（star）和评分（rating）是严格单调关系的，星级是分级靠档后的评分，所以之后的分析中只考虑星级不考虑评分。\n",
    "\n",
    "两种评分处理方法下，各变量的分布基本不变，大部分游戏评分集中在7.5左右，评分跟发行平台数、游戏名称长度关系不是非常明显。\n",
    "\n",
    "## 3. 游戏类型分析\n",
    "\n",
    "各类型游戏数\n",
    "\n",
    "豆瓣给出的游戏共有15类，各类型游戏数统计如下："
   ]
  },
  {
   "cell_type": "code",
   "execution_count": 60,
   "metadata": {},
   "outputs": [],
   "source": [
    "# \"\"\"\n",
    "# 各类型游戏分析\n",
    "# \"\"\"\n",
    "# import numpy as np\n",
    "\n",
    "# # 各类型游戏数\n",
    "\n",
    "# num = len(dataall.name.unique())\n",
    "# result = dataall.groupby('type').count()['name'].reset_index().sort_values('name',ascending = False)\n",
    "\n",
    "\n",
    "# attr = list(result.type)\n",
    "# v = list(np.round(result.name/num,3)) \n",
    "\n",
    "# # 各类型游戏均分\n",
    "# c_schema= [( \"乱斗/清版\",10),\n",
    "#             ( \"体育\",10),\n",
    "#             ( \"冒险\",10),\n",
    "#             ( \"动作\",10),\n",
    "#             ( \"即时战略\",10),\n",
    "#             ( \"射击\",10),\n",
    "#             ( \"格斗\",10),\n",
    "#             ( \"模拟\",10),\n",
    "#             ( \"横版过关\",10),\n",
    "#             ( \"益智\",10),\n",
    "#             ( \"竞速\",10),\n",
    "#             ( \"第一人称射击\",10),\n",
    "#             ( \"策略\",10),\n",
    "#             ( \"角色扮演\",10),\n",
    "#             ( \"音乐/旋律\",10)]\n",
    "# #print(dataall.type)\n",
    "# result1 = dataall.rating.fillna(0).groupby(dataall.type).mean().reset_index()\n",
    "# result2 = dataall.rating.dropna().groupby(dataall.dropna().type).mean().reset_index()\n",
    "\n",
    "# v1 = [result1.rating.apply(lambda x:round(x,1)).tolist()]\n",
    "# v2 = [result2.rating.apply(lambda x:round(x,1)).tolist()]\n",
    "\n",
    "# radar = Radar()\n",
    "# radar.config(c_schema)\n",
    "# radar.add(\"游戏均分（无评分视为0）\", v1, is_splitline=True, is_axisline_show=True,is_label_show = True)\n",
    "# radar.add(\"游戏均分（删除无评分）\", v2, label_color=[\"#4e79a7\"],item_color=\"#f9713c\",is_label_show = True)\n",
    "# radar.render('各类型游戏评分.html')\n",
    "\n",
    "# # 各类型游戏评分人数\n",
    "\n",
    "# result1 = dataall.n_ratings.fillna(0).groupby(dataall.type).mean().reset_index()\n",
    "# result2 = dataall.n_ratings.dropna().groupby(dataall.dropna().type).mean().reset_index()\n",
    "\n",
    "# attr = result1.type.tolist()\n",
    "# v1 = np.round(result1.n_ratings.tolist(),1)\n",
    "# v2 = np.round(result2.n_ratings.tolist(),1)\n",
    "# line = Line()\n",
    "# #line.add(x_axis = attr,y_axis = xaxis_type = 'category')\n",
    "# line.add(\"包含无评分\", attr, v1, mark_point=[\"max\"],is_label_show = True)\n",
    "# line.add(\"不包含无评分\", attr, v2, is_smooth=True, mark_point=[\"max\"],is_label_show = True,xaxis_rotate = 30)\n",
    "# line.render('各类型游戏-评分人数.html')"
   ]
  },
  {
   "cell_type": "markdown",
   "metadata": {},
   "source": [
    "## 4. 游戏平台分析"
   ]
  },
  {
   "cell_type": "code",
   "execution_count": 52,
   "metadata": {},
   "outputs": [],
   "source": [
    "# ?wordcloud.generate"
   ]
  },
  {
   "cell_type": "code",
   "execution_count": 59,
   "metadata": {},
   "outputs": [
    {
     "name": "stdout",
     "output_type": "stream",
     "text": [
      "  platform  name\n",
      "0       PC   124\n",
      "1   iPhone   126\n",
      "2       其他   265\n"
     ]
    },
    {
     "data": {
      "image/png": "[encoded data removed]",
      "text/plain": [
       "<Figure size 432x288 with 1 Axes>"
      ]
     },
     "metadata": {
      "needs_background": "light"
     },
     "output_type": "display_data"
    },
    {
     "ename": "DataError",
     "evalue": "No numeric types to aggregate",
     "output_type": "error",
     "traceback": [
      "\u001b[1;31m---------------------------------------------------------------------------\u001b[0m",
      "\u001b[1;31mDataError\u001b[0m                                 Traceback (most recent call last)",
      "\u001b[1;32m<ipython-input-59-5c900d384191>\u001b[0m in \u001b[0;36m<module>\u001b[1;34m\u001b[0m\n\u001b[0;32m     47\u001b[0m \u001b[1;33m\u001b[0m\u001b[0m\n\u001b[0;32m     48\u001b[0m \u001b[0mresult1\u001b[0m \u001b[1;33m=\u001b[0m \u001b[0mdataall\u001b[0m\u001b[1;33m.\u001b[0m\u001b[0mn_ratings\u001b[0m\u001b[1;33m.\u001b[0m\u001b[0mfillna\u001b[0m\u001b[1;33m(\u001b[0m\u001b[1;36m0\u001b[0m\u001b[1;33m)\u001b[0m\u001b[1;33m.\u001b[0m\u001b[0mgroupby\u001b[0m\u001b[1;33m(\u001b[0m\u001b[0mdataall\u001b[0m\u001b[1;33m.\u001b[0m\u001b[0mplatform\u001b[0m\u001b[1;33m)\u001b[0m\u001b[1;33m.\u001b[0m\u001b[0mmean\u001b[0m\u001b[1;33m(\u001b[0m\u001b[1;33m)\u001b[0m\u001b[1;33m.\u001b[0m\u001b[0mreset_index\u001b[0m\u001b[1;33m(\u001b[0m\u001b[1;33m)\u001b[0m\u001b[1;33m\u001b[0m\u001b[1;33m\u001b[0m\u001b[0m\n\u001b[1;32m---> 49\u001b[1;33m \u001b[0mresult2\u001b[0m \u001b[1;33m=\u001b[0m \u001b[0mdataall\u001b[0m\u001b[1;33m.\u001b[0m\u001b[0mn_ratings\u001b[0m\u001b[1;33m.\u001b[0m\u001b[0mdropna\u001b[0m\u001b[1;33m(\u001b[0m\u001b[1;33m)\u001b[0m\u001b[1;33m.\u001b[0m\u001b[0mgroupby\u001b[0m\u001b[1;33m(\u001b[0m\u001b[0mdataall\u001b[0m\u001b[1;33m.\u001b[0m\u001b[0mdropna\u001b[0m\u001b[1;33m(\u001b[0m\u001b[1;33m)\u001b[0m\u001b[1;33m.\u001b[0m\u001b[0mplatform\u001b[0m\u001b[1;33m)\u001b[0m\u001b[1;33m.\u001b[0m\u001b[0mmean\u001b[0m\u001b[1;33m(\u001b[0m\u001b[1;33m)\u001b[0m\u001b[1;33m.\u001b[0m\u001b[0mreset_index\u001b[0m\u001b[1;33m(\u001b[0m\u001b[1;33m)\u001b[0m\u001b[1;33m\u001b[0m\u001b[1;33m\u001b[0m\u001b[0m\n\u001b[0m\u001b[0;32m     50\u001b[0m \u001b[1;33m\u001b[0m\u001b[0m\n\u001b[0;32m     51\u001b[0m \u001b[0mattr\u001b[0m \u001b[1;33m=\u001b[0m \u001b[0mresult1\u001b[0m\u001b[1;33m.\u001b[0m\u001b[0mplatform\u001b[0m\u001b[1;33m.\u001b[0m\u001b[0mtolist\u001b[0m\u001b[1;33m(\u001b[0m\u001b[1;33m)\u001b[0m\u001b[1;33m\u001b[0m\u001b[1;33m\u001b[0m\u001b[0m\n",
      "\u001b[1;32md:\\ProgramData\\Anaconda3\\lib\\site-packages\\pandas\\core\\groupby\\groupby.py\u001b[0m in \u001b[0;36mmean\u001b[1;34m(self, *args, **kwargs)\u001b[0m\n\u001b[0;32m   1304\u001b[0m         \u001b[0mnv\u001b[0m\u001b[1;33m.\u001b[0m\u001b[0mvalidate_groupby_func\u001b[0m\u001b[1;33m(\u001b[0m\u001b[1;34m'mean'\u001b[0m\u001b[1;33m,\u001b[0m \u001b[0margs\u001b[0m\u001b[1;33m,\u001b[0m \u001b[0mkwargs\u001b[0m\u001b[1;33m,\u001b[0m \u001b[1;33m[\u001b[0m\u001b[1;34m'numeric_only'\u001b[0m\u001b[1;33m]\u001b[0m\u001b[1;33m)\u001b[0m\u001b[1;33m\u001b[0m\u001b[1;33m\u001b[0m\u001b[0m\n\u001b[0;32m   1305\u001b[0m         \u001b[1;32mtry\u001b[0m\u001b[1;33m:\u001b[0m\u001b[1;33m\u001b[0m\u001b[1;33m\u001b[0m\u001b[0m\n\u001b[1;32m-> 1306\u001b[1;33m             \u001b[1;32mreturn\u001b[0m \u001b[0mself\u001b[0m\u001b[1;33m.\u001b[0m\u001b[0m_cython_agg_general\u001b[0m\u001b[1;33m(\u001b[0m\u001b[1;34m'mean'\u001b[0m\u001b[1;33m,\u001b[0m \u001b[1;33m**\u001b[0m\u001b[0mkwargs\u001b[0m\u001b[1;33m)\u001b[0m\u001b[1;33m\u001b[0m\u001b[1;33m\u001b[0m\u001b[0m\n\u001b[0m\u001b[0;32m   1307\u001b[0m         \u001b[1;32mexcept\u001b[0m \u001b[0mGroupByError\u001b[0m\u001b[1;33m:\u001b[0m\u001b[1;33m\u001b[0m\u001b[1;33m\u001b[0m\u001b[0m\n\u001b[0;32m   1308\u001b[0m             \u001b[1;32mraise\u001b[0m\u001b[1;33m\u001b[0m\u001b[1;33m\u001b[0m\u001b[0m\n",
      "\u001b[1;32md:\\ProgramData\\Anaconda3\\lib\\site-packages\\pandas\\core\\groupby\\groupby.py\u001b[0m in \u001b[0;36m_cython_agg_general\u001b[1;34m(self, how, alt, numeric_only, min_count)\u001b[0m\n\u001b[0;32m   1054\u001b[0m \u001b[1;33m\u001b[0m\u001b[0m\n\u001b[0;32m   1055\u001b[0m         \u001b[1;32mif\u001b[0m \u001b[0mlen\u001b[0m\u001b[1;33m(\u001b[0m\u001b[0moutput\u001b[0m\u001b[1;33m)\u001b[0m \u001b[1;33m==\u001b[0m \u001b[1;36m0\u001b[0m\u001b[1;33m:\u001b[0m\u001b[1;33m\u001b[0m\u001b[1;33m\u001b[0m\u001b[0m\n\u001b[1;32m-> 1056\u001b[1;33m             \u001b[1;32mraise\u001b[0m \u001b[0mDataError\u001b[0m\u001b[1;33m(\u001b[0m\u001b[1;34m'No numeric types to aggregate'\u001b[0m\u001b[1;33m)\u001b[0m\u001b[1;33m\u001b[0m\u001b[1;33m\u001b[0m\u001b[0m\n\u001b[0m\u001b[0;32m   1057\u001b[0m \u001b[1;33m\u001b[0m\u001b[0m\n\u001b[0;32m   1058\u001b[0m         \u001b[1;32mreturn\u001b[0m \u001b[0mself\u001b[0m\u001b[1;33m.\u001b[0m\u001b[0m_wrap_aggregated_output\u001b[0m\u001b[1;33m(\u001b[0m\u001b[0moutput\u001b[0m\u001b[1;33m,\u001b[0m \u001b[0mnames\u001b[0m\u001b[1;33m)\u001b[0m\u001b[1;33m\u001b[0m\u001b[1;33m\u001b[0m\u001b[0m\n",
      "\u001b[1;31mDataError\u001b[0m: No numeric types to aggregate"
     ]
    }
   ],
   "source": [
    "\"\"\"\n",
    "游戏平台分析\n",
    "\"\"\"\n",
    "# 各平台游戏数\n",
    "\n",
    "from wordcloud import WordCloud\n",
    "\n",
    "\n",
    "num = len(dataall.name.unique())\n",
    "result = dataall.groupby('platform').count()['name'].reset_index()\n",
    "print(result)\n",
    "\n",
    "name = result.platform.tolist()\n",
    "value = result.name.tolist()\n",
    "# wordcloud = WordCloud(width=1300, height=620)\n",
    "# wordcloud.add(\"\", name, value, word_size_range=[20, 120])\n",
    "\n",
    "dic = dict(zip(name, value))#词频以字典形式存储\n",
    "wordcloud.generate_from_frequencies(dic)#根据给定词频生成词云\n",
    "# wordcloud.render('游戏平台.html')\n",
    "plt.imshow(wordcloud)\n",
    "plt.axis(\"off\")#不显示坐标轴\n",
    "plt.show()\n",
    "\n",
    "# platforms = result.loc[result.name >100,'platform'].tolist()\n",
    "\n",
    "\n",
    "# dataall.platform = dataall.platform.apply(lambda x:x if x in platforms else '其他')\n",
    "# result = dataall.groupby('platform').count()['name'].reset_index().sort_values('name',ascending = False).reset_index(drop = True)\n",
    "\n",
    "\n",
    "# attr = result.platform\n",
    "# v1 = result.name\n",
    "# pie = Pie('各平台游戏数',title_pos = 'center',title_text_size = 20)\n",
    "# pie.add(\n",
    "#         \"\",\n",
    "#         attr,\n",
    "#         v1,\n",
    "#         radius=[40, 75],center = [50,60],\n",
    "#         label_text_color=None,is_legend_show = False,\n",
    "#         is_label_show=True\n",
    "#         )\n",
    "# pie.render('各平台游戏数.html')\n",
    "\n",
    "\n",
    "# 各平台游戏评分人数\n",
    "\n",
    "# result1 = dataall.n_ratings.fillna(0).groupby(dataall.platform).mean().reset_index()\n",
    "# result2 = dataall.n_ratings.dropna().groupby(dataall.dropna().platform).mean().reset_index()\n",
    "\n",
    "# attr = result1.platform.tolist()\n",
    "# v1 = np.round(result1.n_ratings.tolist(),1)\n",
    "# v2 = np.round(result2.n_ratings.tolist(),1)\n",
    "# line = Line()\n",
    "# #line.add(x_axis = attr,y_axis = xaxis_type = 'category')\n",
    "# line.add(\"包含无评分\", attr, v1, mark_point=[\"max\"],is_label_show = True)\n",
    "# line.add(\"不包含无评分\", attr, v2, is_smooth=True, mark_point=[\"max\"],is_label_show = True,xaxis_rotate = 70)\n",
    "# line.render('各平台游戏-评分人数.html')\n",
    "\n",
    "\n",
    "# # 各平台游戏均分\n",
    "\n",
    "# result1 = dataall.rating.fillna(0).groupby(dataall.platform).mean().reset_index()\n",
    "# result2 = dataall.rating.dropna().groupby(dataall.dropna().platform).mean().reset_index()\n",
    "\n",
    "# attr = result1.platform.tolist()\n",
    "# v1 = np.round(result1.rating.tolist(),1)\n",
    "# v2 = np.round(result2.rating.tolist(),1)\n",
    "# line = Line()\n",
    "# #line.add(x_axis = attr,y_axis = xaxis_type = 'category')\n",
    "# line.add(\"包含无评分\", attr, v1, mark_point=[\"max\"],is_label_show = True)\n",
    "# line.add(\"不包含无评分\", attr, v2, is_smooth=True, mark_point=[\"max\"],is_label_show = True,xaxis_rotate = 70)\n",
    "# line.render('各平台游戏-均分.html')"
   ]
  },
  {
   "cell_type": "markdown",
   "metadata": {},
   "source": [
    "## 4. 游戏平台分析"
   ]
  },
  {
   "cell_type": "code",
   "execution_count": 62,
   "metadata": {},
   "outputs": [
    {
     "ename": "FileNotFoundError",
     "evalue": "[Errno 2] No such file or directory: '中文停用词表（比较全面，有1208个停用词）.txt'",
     "output_type": "error",
     "traceback": [
      "\u001b[1;31m---------------------------------------------------------------------------\u001b[0m",
      "\u001b[1;31mFileNotFoundError\u001b[0m                         Traceback (most recent call last)",
      "\u001b[1;32m<ipython-input-62-feda5d5cb5b5>\u001b[0m in \u001b[0;36m<module>\u001b[1;34m\u001b[0m\n\u001b[0;32m      7\u001b[0m \u001b[1;31m# 分词\u001b[0m\u001b[1;33m\u001b[0m\u001b[1;33m\u001b[0m\u001b[1;33m\u001b[0m\u001b[0m\n\u001b[0;32m      8\u001b[0m \u001b[1;32mimport\u001b[0m \u001b[0mre\u001b[0m\u001b[1;33m\u001b[0m\u001b[1;33m\u001b[0m\u001b[0m\n\u001b[1;32m----> 9\u001b[1;33m \u001b[0mstopwords\u001b[0m \u001b[1;33m=\u001b[0m \u001b[0mopen\u001b[0m\u001b[1;33m(\u001b[0m\u001b[1;34m'中文停用词表（比较全面，有1208个停用词）.txt'\u001b[0m\u001b[1;33m,\u001b[0m\u001b[1;34m'r'\u001b[0m\u001b[1;33m)\u001b[0m\u001b[1;33m.\u001b[0m\u001b[0mread\u001b[0m\u001b[1;33m(\u001b[0m\u001b[1;33m)\u001b[0m\u001b[1;33m\u001b[0m\u001b[1;33m\u001b[0m\u001b[0m\n\u001b[0m\u001b[0;32m     10\u001b[0m \u001b[0mstopwords\u001b[0m \u001b[1;33m=\u001b[0m \u001b[0mstopwords\u001b[0m\u001b[1;33m.\u001b[0m\u001b[0msplit\u001b[0m\u001b[1;33m(\u001b[0m\u001b[1;34m''\u001b[0m\u001b[1;33m)\u001b[0m\u001b[1;33m\u001b[0m\u001b[1;33m\u001b[0m\u001b[0m\n\u001b[0;32m     11\u001b[0m \u001b[1;33m\u001b[0m\u001b[0m\n",
      "\u001b[1;31mFileNotFoundError\u001b[0m: [Errno 2] No such file or directory: '中文停用词表（比较全面，有1208个停用词）.txt'"
     ]
    }
   ],
   "source": [
    "\"\"\"\n",
    "标题分析\n",
    "\n",
    "\"\"\"\n",
    "\n",
    "\n",
    "# # 分词\n",
    "# import re\n",
    "# stopwords = open('中文停用词表（比较全面，有1208个停用词）.txt','r').read()\n",
    "# stopwords = stopwords.split('')\n",
    "\n",
    "\n",
    "# texts = ''.join(dataall.name.tolist())\n",
    "# texts =''.join(re.findall(r'[一-龥]',texts))\n",
    "# result = jieba.cut(texts,cut_all=False)\n",
    "\n",
    "\n",
    "# allwords = [word for word in result if len(word)>1 and word not in stopwords]\n",
    "\n",
    "# result = pd.DataFrame(allwords)\n",
    "# result.columns =['word']\n",
    "# res = result.word.groupby(result.word).count()\n",
    "# res.index.name = 'text'\n",
    "# res = res.reset_index()\n",
    "# res = res.loc[res.word >= 10].reset_index(drop = True)\n",
    "\n",
    "# # 标题词云\n",
    "# name = res.text.tolist()\n",
    "# value = res.word.tolist()\n",
    "# wordcloud = WordCloud(width=1300, height=620)\n",
    "# wordcloud.add(\"\", name, value, word_size_range=[10, 80])\n",
    "# wordcloud.render('游戏名称高频词.html')"
   ]
  },
  {
   "cell_type": "markdown",
   "metadata": {},
   "source": [
    "## 5.高分游戏汇总"
   ]
  },
  {
   "cell_type": "code",
   "execution_count": null,
   "metadata": {},
   "outputs": [],
   "source": [
    "\"\"\"\n",
    "高rating游戏分析\n",
    "\"\"\" \n",
    "# data1 = dataall.loc[dataall.rating>=9.5]\n",
    "\n",
    "# result = data1.groupby('type').count()['name'].reset_index().sort_values('name',ascending = False).reset_index(drop = True)\n",
    "\n",
    "# attr = result.type\n",
    "# v1 = result.name\n",
    "# pie = Pie('9.5分以上游戏',title_pos = 'center',title_text_size = 20)\n",
    "# pie.add(\n",
    "# \"\",\n",
    "# attr,\n",
    "# v1,\n",
    "# radius=[40, 75],center = [50,60],\n",
    "# label_text_color=None,is_legend_show = False,\n",
    "# is_label_show=True\n",
    "# )\n",
    "# pie.render('高评分游戏-分类型.html')\n",
    "\n",
    "# data1['title'] = data1.name.apply(lambda x:str(x).split(':')[0].split(' ')[0])\n",
    "\n",
    "# # 9.5以上评分，评分人数超过1000\n",
    "# result = data1.loc[data1.n_ratings >= 100,['name','genres','content','platforms','rating','n_ratings']].drop_duplicates().reset_index(drop = True) \n",
    "\n",
    "# result = result.sort_values(by = ['n_ratings','genres'],ascending = False).reset_index(drop = True)\n",
    "# result.to_excel('评分9.5以上游戏.xlsx')"
   ]
  },
  {
   "cell_type": "code",
   "execution_count": 1,
   "metadata": {
    "scrolled": false
   },
   "outputs": [
    {
     "name": "stderr",
     "output_type": "stream",
     "text": [
      "100%|██████████████████████████████████████████████████████████████████████████████| 1000/1000 [00:10<00:00, 91.24it/s]\n"
     ]
    }
   ],
   "source": [
    "from tqdm import tqdm\n",
    "from time import sleep\n",
    "for i in tqdm(range(1000)):  \n",
    "     sleep(0.01)\n",
    "     pass  "
   ]
  },
  {
   "cell_type": "code",
   "execution_count": null,
   "metadata": {},
   "outputs": [],
   "source": []
  }
 ],
 "metadata": {
  "kernelspec": {
   "display_name": "Python 3",
   "language": "python",
   "name": "python3"
  },
  "language_info": {
   "codemirror_mode": {
    "name": "ipython",
    "version": 3
   },
   "file_extension": ".py",
   "mimetype": "text/x-python",
   "name": "python",
   "nbconvert_exporter": "python",
   "pygments_lexer": "ipython3",
   "version": "3.7.1"
  }
 },
 "nbformat": 4,
 "nbformat_minor": 2
}
